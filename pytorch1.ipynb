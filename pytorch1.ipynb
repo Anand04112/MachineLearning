{
  "nbformat": 4,
  "nbformat_minor": 0,
  "metadata": {
    "colab": {
      "provenance": [],
      "mount_file_id": "1ut2auzTCsbVql8oeQPHu8MDcfFN8IfsK",
      "authorship_tag": "ABX9TyPdqYBeWiiuWQPf50xPWDW5",
      "include_colab_link": true
    },
    "kernelspec": {
      "name": "python3",
      "display_name": "Python 3"
    },
    "language_info": {
      "name": "python"
    }
  },
  "cells": [
    {
      "cell_type": "markdown",
      "metadata": {
        "id": "view-in-github",
        "colab_type": "text"
      },
      "source": [
        "<a href=\"https://colab.research.google.com/github/Coder1010ayush/MachineLearning/blob/main/pytorch1.ipynb\" target=\"_parent\"><img src=\"https://colab.research.google.com/assets/colab-badge.svg\" alt=\"Open In Colab\"/></a>"
      ]
    },
    {
      "cell_type": "code",
      "source": [
        "from google.colab import drive\n",
        "drive.mount('/content/drive')"
      ],
      "metadata": {
        "colab": {
          "base_uri": "https://localhost:8080/"
        },
        "id": "ugJJPjwzKL1N",
        "outputId": "77d99753-033b-488c-f04c-c5ddbea528cd"
      },
      "execution_count": 2,
      "outputs": [
        {
          "output_type": "stream",
          "name": "stdout",
          "text": [
            "Drive already mounted at /content/drive; to attempt to forcibly remount, call drive.mount(\"/content/drive\", force_remount=True).\n"
          ]
        }
      ]
    },
    {
      "cell_type": "code",
      "execution_count": 3,
      "metadata": {
        "colab": {
          "base_uri": "https://localhost:8080/"
        },
        "id": "kI8p816-AODH",
        "outputId": "cf94b408-a1c8-489c-b35c-03e2ee53ac2c"
      },
      "outputs": [
        {
          "output_type": "stream",
          "name": "stdout",
          "text": [
            "tensor([[2, 3],\n",
            "        [4, 5]])\n",
            "tensor([[6, 7],\n",
            "        [8, 9]])\n",
            "tensor([2, 3])\n",
            "tensor([4, 5])\n"
          ]
        }
      ],
      "source": [
        "# Practice to tensor and manipulation\n",
        "import torch\n",
        "tensor = torch.arange(0,10)\n",
        "tensor_1 = torch.tensor([[[2,3],\n",
        "                         [4,5]],[[6,7],\n",
        "                                 [8,9]]])\n",
        "print(tensor_1[0]) #[[2,3],[4,5]]\n",
        "print(tensor_1[1]) #[[6,7],[8,9]]\n",
        "print(tensor_1[0][0]) #[2,3]\n",
        "print(tensor_1[0][1]) #[4,5]"
      ]
    },
    {
      "cell_type": "code",
      "source": [
        "tensor_2 = torch.tensor([[[1,2,3],\n",
        "                          [4,5,6],\n",
        "                          [7,8,9]],[[10,20,30],\n",
        "                                    [40,50,60],\n",
        "                                    [70,80,90]],\n",
        "                          [[100,200,300],\n",
        "                         [500,600,700],\n",
        "                         [400,800,900]]\n",
        "                       ])\n",
        "print(tensor_2.shape)\n",
        "print(tensor_2[0])\n",
        "print(tensor_2[0][1])\n",
        "print(tensor_2[0][0][2])\n",
        "print(tensor_2[2][2][1])\n",
        "print(tensor_2[:,:,1])\n",
        "print(tensor_2[:,1,:])"
      ],
      "metadata": {
        "id": "qOnSyh94EPdu",
        "colab": {
          "base_uri": "https://localhost:8080/"
        },
        "outputId": "ad556ea6-eafc-4c0b-a046-b80f2405d378"
      },
      "execution_count": 4,
      "outputs": [
        {
          "output_type": "stream",
          "name": "stdout",
          "text": [
            "torch.Size([3, 3, 3])\n",
            "tensor([[1, 2, 3],\n",
            "        [4, 5, 6],\n",
            "        [7, 8, 9]])\n",
            "tensor([4, 5, 6])\n",
            "tensor(3)\n",
            "tensor(800)\n",
            "tensor([[  2,   5,   8],\n",
            "        [ 20,  50,  80],\n",
            "        [200, 600, 800]])\n",
            "tensor([[  4,   5,   6],\n",
            "        [ 40,  50,  60],\n",
            "        [500, 600, 700]])\n"
          ]
        }
      ]
    },
    {
      "cell_type": "code",
      "source": [
        "tensor = torch.tensor(\n",
        "    [\n",
        "        [\n",
        "            [\n",
        "                [1,2,3],\n",
        "                [4,5,6]\n",
        "            ],[\n",
        "                [10,20,30],\n",
        "                [40,50,60]\n",
        "            ]\n",
        "        ]\n",
        "    ]\n",
        "\n",
        ")\n",
        "tensor.shape\n",
        "print(tensor.size())\n",
        "print(tensor[0])\n",
        "print(tensor[0,:,:,2])\n",
        "tensor[0][0].ndim"
      ],
      "metadata": {
        "colab": {
          "base_uri": "https://localhost:8080/"
        },
        "id": "JMGLtSFEFkGh",
        "outputId": "c0ef4190-c9b0-46e7-d366-53081db71140"
      },
      "execution_count": 10,
      "outputs": [
        {
          "output_type": "stream",
          "name": "stdout",
          "text": [
            "torch.Size([1, 2, 2, 3])\n",
            "tensor([[[ 1,  2,  3],\n",
            "         [ 4,  5,  6]],\n",
            "\n",
            "        [[10, 20, 30],\n",
            "         [40, 50, 60]]])\n",
            "tensor([[ 3,  6],\n",
            "        [30, 60]])\n"
          ]
        },
        {
          "output_type": "execute_result",
          "data": {
            "text/plain": [
              "2"
            ]
          },
          "metadata": {},
          "execution_count": 10
        }
      ]
    },
    {
      "cell_type": "code",
      "source": [
        "tensor_org = torch.tensor([1,2,3,4,5,6,7,8,9,10,11,12])\n",
        "tensor_reshaped = tensor_org.reshape(shape=(2,6))\n",
        "tensor_reshape_1 = tensor_org.reshape(shape=(6,2))\n",
        "tensor_reshape_2 = tensor_org.reshape(shape=(3,4))\n",
        "print(tensor_reshaped)\n",
        "print(tensor_reshape_1)\n",
        "print(tensor_reshape_2)\n",
        "print(tensor_reshaped.ndim ,tensor_reshape_1.ndim,tensor_reshape_2.ndim)"
      ],
      "metadata": {
        "colab": {
          "base_uri": "https://localhost:8080/"
        },
        "id": "rQ8RiGM_KdjN",
        "outputId": "9f8175a8-cf3c-46a1-cf2d-913719aec383"
      },
      "execution_count": 9,
      "outputs": [
        {
          "output_type": "stream",
          "name": "stdout",
          "text": [
            "tensor([[ 1,  2,  3,  4,  5,  6],\n",
            "        [ 7,  8,  9, 10, 11, 12]])\n",
            "tensor([[ 1,  2],\n",
            "        [ 3,  4],\n",
            "        [ 5,  6],\n",
            "        [ 7,  8],\n",
            "        [ 9, 10],\n",
            "        [11, 12]])\n",
            "tensor([[ 1,  2,  3,  4],\n",
            "        [ 5,  6,  7,  8],\n",
            "        [ 9, 10, 11, 12]])\n",
            "2 2 2\n"
          ]
        }
      ]
    },
    {
      "cell_type": "code",
      "source": [],
      "metadata": {
        "id": "b0LAGqcfMYvH"
      },
      "execution_count": 9,
      "outputs": []
    }
  ]
}