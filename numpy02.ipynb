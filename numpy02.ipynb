{
  "nbformat": 4,
  "nbformat_minor": 0,
  "metadata": {
    "colab": {
      "provenance": [],
      "authorship_tag": "ABX9TyORsxcN5tJQi3SQIqIR9hOb",
      "include_colab_link": true
    },
    "kernelspec": {
      "name": "python3",
      "display_name": "Python 3"
    },
    "language_info": {
      "name": "python"
    }
  },
  "cells": [
    {
      "cell_type": "markdown",
      "metadata": {
        "id": "view-in-github",
        "colab_type": "text"
      },
      "source": [
        "<a href=\"https://colab.research.google.com/github/Coder1010ayush/MachineLearning/blob/main/numpy02.ipynb\" target=\"_parent\"><img src=\"https://colab.research.google.com/assets/colab-badge.svg\" alt=\"Open In Colab\"/></a>"
      ]
    },
    {
      "cell_type": "markdown",
      "source": [
        "###  Topics to be covered\n",
        "        01. Array slicing\n",
        "        02. Array indexing\n",
        "        03. Array join\n",
        "        04. Array split\n",
        "        05. Array iterating\n",
        "        06. Array Searching Sorting Filter\n",
        "        07. Array reshaping"
      ],
      "metadata": {
        "id": "tbtytYz4ML5u"
      }
    },
    {
      "cell_type": "code",
      "execution_count": null,
      "metadata": {
        "id": "7BtSL5fyMEd0",
        "colab": {
          "base_uri": "https://localhost:8080/"
        },
        "outputId": "2c6c39ab-672e-4bb8-b31b-2663a636b159"
      },
      "outputs": [
        {
          "output_type": "stream",
          "name": "stdout",
          "text": [
            "[1 2 3 4 5] Shape is  (5,) 1\n",
            "[[1 2]\n",
            " [3 4]\n",
            " [4 5]] Shape is  (3, 2) 2\n",
            "1\n",
            "[1 2]\n",
            "[3 4]\n"
          ]
        }
      ],
      "source": [
        "import numpy as np\n",
        "\n",
        "# Array indexing\n",
        "tensor = np.array([1,2,3,4,5])\n",
        "arr = np.array([[1,2],[3,4],[4,5]])\n",
        "print(tensor,\"Shape is \",tensor.shape,tensor.ndim)\n",
        "print(arr,\"Shape is \",arr.shape,arr.ndim)\n",
        "\n",
        "print(tensor[0])\n",
        "print(arr[0])\n",
        "print(arr[1])\n"
      ]
    },
    {
      "cell_type": "code",
      "source": [
        "matrix = np.array([10,20,30,40,50])\n",
        "mat = np.array([[[1,2,3,4],[5,6,7,8],[9,10,11,12]],[\n",
        "    [10,20,30,40],\n",
        "    [50,60,70,80],\n",
        "    [90,100,110,120]\n",
        "]])\n",
        "print(mat)\n",
        "print(\"Shape is : \",mat.shape)\n",
        "print(\"Dimension is : \",mat.ndim)\n",
        "print(mat[0])\n",
        "print(mat[1])\n",
        "print(mat[0][0][2])\n",
        "print(mat[: : 1])\n",
        "print(mat[: 2 :])"
      ],
      "metadata": {
        "colab": {
          "base_uri": "https://localhost:8080/"
        },
        "id": "eBduU9m4SAdW",
        "outputId": "3c9340fa-42c9-4220-855d-fd8301019994"
      },
      "execution_count": null,
      "outputs": [
        {
          "output_type": "stream",
          "name": "stdout",
          "text": [
            "[[[  1   2   3   4]\n",
            "  [  5   6   7   8]\n",
            "  [  9  10  11  12]]\n",
            "\n",
            " [[ 10  20  30  40]\n",
            "  [ 50  60  70  80]\n",
            "  [ 90 100 110 120]]]\n",
            "Shape is :  (2, 3, 4)\n",
            "Dimension is :  3\n",
            "[[ 1  2  3  4]\n",
            " [ 5  6  7  8]\n",
            " [ 9 10 11 12]]\n",
            "[[ 10  20  30  40]\n",
            " [ 50  60  70  80]\n",
            " [ 90 100 110 120]]\n",
            "3\n",
            "[[[  1   2   3   4]\n",
            "  [  5   6   7   8]\n",
            "  [  9  10  11  12]]\n",
            "\n",
            " [[ 10  20  30  40]\n",
            "  [ 50  60  70  80]\n",
            "  [ 90 100 110 120]]]\n",
            "[[[  1   2   3   4]\n",
            "  [  5   6   7   8]\n",
            "  [  9  10  11  12]]\n",
            "\n",
            " [[ 10  20  30  40]\n",
            "  [ 50  60  70  80]\n",
            "  [ 90 100 110 120]]]\n"
          ]
        }
      ]
    },
    {
      "cell_type": "code",
      "source": [
        "one = np.ones(5)\n",
        "zero = np.zeros(10)\n",
        "print(one)\n",
        "one_1 = one.astype('i')\n",
        "print(one.dtype)\n",
        "print(zero)\n",
        "print(zero.dtype)\n",
        "print(one_1.dtype)"
      ],
      "metadata": {
        "colab": {
          "base_uri": "https://localhost:8080/"
        },
        "id": "DOS7WcSlV8Zn",
        "outputId": "ada631e6-ab6a-4260-ec31-54d52db27da6"
      },
      "execution_count": null,
      "outputs": [
        {
          "output_type": "stream",
          "name": "stdout",
          "text": [
            "[1. 1. 1. 1. 1.]\n",
            "float64\n",
            "[0. 0. 0. 0. 0. 0. 0. 0. 0. 0.]\n",
            "float64\n",
            "int32\n"
          ]
        }
      ]
    },
    {
      "cell_type": "code",
      "source": [
        "# Arrays slicing\n",
        "arr = np.array([1,2,3,4,5])\n",
        "narr = arr[2 :]\n",
        "narr1 = arr[: 3]\n",
        "print(narr)\n",
        "print(narr1)\n",
        "print(narr.ndim,narr1.ndim)"
      ],
      "metadata": {
        "colab": {
          "base_uri": "https://localhost:8080/"
        },
        "id": "-FVKoEDYXUZ6",
        "outputId": "7c054f7f-fe28-4609-e020-6710e3a70b6c"
      },
      "execution_count": null,
      "outputs": [
        {
          "output_type": "stream",
          "name": "stdout",
          "text": [
            "[3 4 5]\n",
            "[1 2 3]\n",
            "1 1\n"
          ]
        }
      ]
    },
    {
      "cell_type": "code",
      "source": [
        "matr = np.array([[[1,2,3],\n",
        "                  [4,5,6],\n",
        "                  [7,8,9]],[\n",
        "                      [10,20,30],\n",
        "                      [40,50,60],\n",
        "                      [70,80,90]\n",
        "                  ]])\n",
        "print(matr)\n",
        "print(matr.ndim)\n",
        "newarr = matr[1, 2 :]\n",
        "print(newarr)"
      ],
      "metadata": {
        "colab": {
          "base_uri": "https://localhost:8080/"
        },
        "id": "io-QRyTDYSAp",
        "outputId": "e636f6af-fe23-4029-836d-9b45d0ab73f4"
      },
      "execution_count": null,
      "outputs": [
        {
          "output_type": "stream",
          "name": "stdout",
          "text": [
            "[[[ 1  2  3]\n",
            "  [ 4  5  6]\n",
            "  [ 7  8  9]]\n",
            "\n",
            " [[10 20 30]\n",
            "  [40 50 60]\n",
            "  [70 80 90]]]\n",
            "3\n",
            "[[70 80 90]]\n"
          ]
        }
      ]
    },
    {
      "cell_type": "code",
      "source": [],
      "metadata": {
        "id": "eeF4AQUHZ-1T"
      },
      "execution_count": null,
      "outputs": []
    }
  ]
}