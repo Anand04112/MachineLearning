{
  "nbformat": 4,
  "nbformat_minor": 0,
  "metadata": {
    "colab": {
      "provenance": [],
      "authorship_tag": "ABX9TyO77OB/sGoxUGP0R36wxKqM",
      "include_colab_link": true
    },
    "kernelspec": {
      "name": "python3",
      "display_name": "Python 3"
    },
    "language_info": {
      "name": "python"
    }
  },
  "cells": [
    {
      "cell_type": "markdown",
      "metadata": {
        "id": "view-in-github",
        "colab_type": "text"
      },
      "source": [
        "<a href=\"https://colab.research.google.com/github/Coder1010ayush/MachineLearning/blob/main/pytorch.ipynb\" target=\"_parent\"><img src=\"https://colab.research.google.com/assets/colab-badge.svg\" alt=\"Open In Colab\"/></a>"
      ]
    },
    {
      "cell_type": "code",
      "execution_count": 4,
      "metadata": {
        "colab": {
          "base_uri": "https://localhost:8080/"
        },
        "id": "AN9hNmf-pkvF",
        "outputId": "9b1a65ce-4ac4-4868-bf66-7d3d6bd3c3e7"
      },
      "outputs": [
        {
          "output_type": "stream",
          "name": "stdout",
          "text": [
            "2.0.1+cu118\n"
          ]
        }
      ],
      "source": [
        "import torch\n",
        "import pandas as pd\n",
        "import numpy as np\n",
        "import matplotlib.pyplot as plt\n",
        "print(torch.__version__) # __version__ is a dunder method in python oop.\n"
      ]
    },
    {
      "cell_type": "code",
      "source": [
        "# Scalar\n",
        "scalar = torch.tensor(7) # constant values are also known as scalar\n",
        "scalar\n",
        "scalar.ndim # it gives dimension of tensor\n",
        "scalar.item()\n"
      ],
      "metadata": {
        "colab": {
          "base_uri": "https://localhost:8080/"
        },
        "id": "wJ-02MTpqd9j",
        "outputId": "79319094-0b3d-4726-ce46-75a6d1c8ed5b"
      },
      "execution_count": 7,
      "outputs": [
        {
          "output_type": "execute_result",
          "data": {
            "text/plain": [
              "7"
            ]
          },
          "metadata": {},
          "execution_count": 7
        }
      ]
    },
    {
      "cell_type": "code",
      "source": [
        "# Vector\n",
        "vector = torch.tensor([3,4])\n",
        "vector\n",
        "vector.ndim  # it gives dimension of tensor\n",
        "vector.shape # number of items in every row"
      ],
      "metadata": {
        "colab": {
          "base_uri": "https://localhost:8080/"
        },
        "id": "7gaLGmCSrGbK",
        "outputId": "277b8502-3346-4223-b075-068b1bb18f04"
      },
      "execution_count": 12,
      "outputs": [
        {
          "output_type": "execute_result",
          "data": {
            "text/plain": [
              "torch.Size([2])"
            ]
          },
          "metadata": {},
          "execution_count": 12
        }
      ]
    },
    {
      "cell_type": "code",
      "source": [
        "matrix = torch.tensor([[7,8],\n",
        "                       [5,6]])\n",
        "matrix\n",
        "matrix.shape # number of items in every row\n",
        "matrix.ndim # dimension of tensor"
      ],
      "metadata": {
        "colab": {
          "base_uri": "https://localhost:8080/"
        },
        "id": "6eYP5756rpXH",
        "outputId": "d50a3414-86ac-496b-e8d8-9eac50356273"
      },
      "execution_count": 15,
      "outputs": [
        {
          "output_type": "execute_result",
          "data": {
            "text/plain": [
              "2"
            ]
          },
          "metadata": {},
          "execution_count": 15
        }
      ]
    },
    {
      "cell_type": "code",
      "source": [
        "tensor = torch.tensor([[[1,2,3],\n",
        "                        [4,5,6],\n",
        "                        [7,8,9]]])\n",
        "tensor.ndim\n",
        "tensor.shape\n",
        "tensor\n",
        "tensor[0]\n",
        "tensor[0][0]\n",
        "tensor[0][1]\n",
        "tensor[0][2][0]"
      ],
      "metadata": {
        "colab": {
          "base_uri": "https://localhost:8080/"
        },
        "id": "JylZtdfFsRa5",
        "outputId": "e5bda004-c6d8-479c-9cb0-090cef22edb9"
      },
      "execution_count": 64,
      "outputs": [
        {
          "output_type": "execute_result",
          "data": {
            "text/plain": [
              "tensor(7)"
            ]
          },
          "metadata": {},
          "execution_count": 64
        }
      ]
    },
    {
      "cell_type": "markdown",
      "source": [
        "### Random Tensors\n"
      ],
      "metadata": {
        "id": "PFQ-0-y0t5ji"
      }
    },
    {
      "cell_type": "code",
      "source": [
        "# random tensors\n",
        "# forming random tensor in pytorch\n",
        "random_tensor = torch.rand(3,4,2)\n",
        "random_tensor.ndim\n",
        "random_tensor.shape\n",
        "random_tensor"
      ],
      "metadata": {
        "id": "NhC3LfiYteXQ"
      },
      "execution_count": null,
      "outputs": []
    },
    {
      "cell_type": "code",
      "source": [
        "# image\n",
        "image_tensor = torch.rand(size=(224,224,3))\n",
        "image_tensor.shape\n",
        "image_tensor.size()\n",
        "image_tensor"
      ],
      "metadata": {
        "id": "l8mftvHKvSDV"
      },
      "execution_count": null,
      "outputs": []
    },
    {
      "cell_type": "code",
      "source": [
        "zeros = torch.zeros(size=(3,4))\n",
        "zeros"
      ],
      "metadata": {
        "id": "K5FrenZivgW3"
      },
      "execution_count": null,
      "outputs": []
    },
    {
      "cell_type": "code",
      "source": [
        "ones = torch.ones(size=(3,4),dtype=torch.int16)\n",
        "ones\n",
        "ones.dtype # data type of tensor elements"
      ],
      "metadata": {
        "id": "zSA3o2fMvutP"
      },
      "execution_count": null,
      "outputs": []
    },
    {
      "cell_type": "code",
      "source": [
        "# range tensor\n",
        "range_tensor = torch.arange(0,10)\n",
        "range_tensor\n",
        "ten_zero = torch.zeros_like(input=range_tensor)\n",
        "ten_one = torch.ones_like(input=range_tensor)\n",
        "ten_zero\n",
        "ten_one"
      ],
      "metadata": {
        "id": "jjV32FFuwAv5"
      },
      "execution_count": null,
      "outputs": []
    },
    {
      "cell_type": "markdown",
      "source": [
        "### Tensor data type"
      ],
      "metadata": {
        "id": "oG9m5xL7xipf"
      }
    },
    {
      "cell_type": "code",
      "source": [
        "from pickle import FALSE\n",
        "tensor = torch.tensor([3.0,4.2,5.6],\n",
        "                      device=None,\n",
        "                      requires_grad=True,\n",
        "                      dtype=torch.float16)\n",
        "integer_tensor = torch.tensor([1,2,3,4,5],\n",
        "                              device=None,\n",
        "                              requires_grad=False,\n",
        "                              dtype =torch.int32)\n",
        "\n",
        "tensor.dtype\n",
        "integer_tensor\n",
        "tensor_16_bit = tensor.type(torch.float16)\n",
        "tensor_16_bit.dtype"
      ],
      "metadata": {
        "id": "w0mi9tR7xgTO"
      },
      "execution_count": null,
      "outputs": []
    },
    {
      "cell_type": "code",
      "source": [
        "# Information about tensor\n",
        "some_tensor = torch.rand(3,4)\n",
        "some_tensor\n",
        "print(\"Shape of tensor is : \",some_tensor.shape)\n",
        "print(\"Dimension of tensor is : \",some_tensor.ndim)\n",
        "print(\"dtype of element : \",some_tensor.dtype)\n",
        "print(\"Device info : \",some_tensor.device)"
      ],
      "metadata": {
        "colab": {
          "base_uri": "https://localhost:8080/"
        },
        "id": "xldNyZouzfhI",
        "outputId": "eb17ad6e-0b6d-4e39-d510-734c21bf713a"
      },
      "execution_count": 69,
      "outputs": [
        {
          "output_type": "stream",
          "name": "stdout",
          "text": [
            "Shape of tensor is :  torch.Size([3, 4])\n",
            "Dimension of tensor is :  2\n",
            "dtype of element :  torch.float32\n",
            "Device info :  cpu\n"
          ]
        }
      ]
    },
    {
      "cell_type": "code",
      "source": [
        "# manipulating tensors\n",
        "# operations : addition subtraction multiplication\n",
        "first = torch.tensor(7)\n",
        "second = torch.tensor(10)\n",
        "first.mul(second)\n",
        "first.add(second)\n",
        "first.subtract(second)\n",
        "first+20"
      ],
      "metadata": {
        "colab": {
          "base_uri": "https://localhost:8080/"
        },
        "id": "c3jfpQu4-ti9",
        "outputId": "8893f883-d971-4a50-f161-7b4944ba03f5"
      },
      "execution_count": 73,
      "outputs": [
        {
          "output_type": "execute_result",
          "data": {
            "text/plain": [
              "tensor(27)"
            ]
          },
          "metadata": {},
          "execution_count": 73
        }
      ]
    },
    {
      "cell_type": "code",
      "source": [
        "one = torch.tensor([1,2,3,4])\n",
        "two = torch.tensor([6,7,8,9])\n",
        "one.add(two)\n",
        "one.mul(two)\n",
        "one +10\n",
        "two *2\n",
        "\n",
        "# another way to do same thing in pytorch\n",
        "torch.add(one,two)\n",
        "torch.mul(one,two)"
      ],
      "metadata": {
        "colab": {
          "base_uri": "https://localhost:8080/"
        },
        "id": "lkXX_gJC_XJZ",
        "outputId": "26c34a57-d032-4994-b595-72457aa29d10"
      },
      "execution_count": 80,
      "outputs": [
        {
          "output_type": "execute_result",
          "data": {
            "text/plain": [
              "tensor([ 6, 14, 24, 36])"
            ]
          },
          "metadata": {},
          "execution_count": 80
        }
      ]
    },
    {
      "cell_type": "code",
      "source": [
        "# Matrix multiplication\n",
        "# 01 Scalar product\n",
        "%%time\n",
        "# this function give wall time\n",
        "tensor_1 = torch.tensor([2,34,5,6])\n",
        "print(tensor_1*5)\n",
        "tensor_2 = torch.tensor([[2,3,4,5]])\n",
        "tensor_3 = torch.tensor([[2,3],[4,5]])\n",
        "print(tensor_2.mul(tensor_1))\n",
        "print(tensor_1.mul(tensor_2))\n"
      ],
      "metadata": {
        "colab": {
          "base_uri": "https://localhost:8080/"
        },
        "id": "QLLSM3ge_yxg",
        "outputId": "e7dab82f-913d-4b96-91bb-f1919fc53945"
      },
      "execution_count": 91,
      "outputs": [
        {
          "output_type": "stream",
          "name": "stdout",
          "text": [
            "tensor([ 10, 170,  25,  30])\n",
            "tensor([[  4, 102,  20,  30]])\n",
            "tensor([[  4, 102,  20,  30]])\n",
            "CPU times: user 4.43 ms, sys: 0 ns, total: 4.43 ms\n",
            "Wall time: 4.56 ms\n"
          ]
        }
      ]
    },
    {
      "cell_type": "code",
      "source": [
        "# 02 Dot Product\n",
        "%%time\n",
        "tensor_f = torch.tensor([[2,3,4]])\n",
        "print(tensor_f.shape)\n",
        "tensor_s = torch.tensor([[2,3,5]])\n",
        "print(tensor_s.shape)\n",
        "tensor_t = torch.rand(size=(3,1))\n",
        "tensor_f = torch.rand(size=(1,3))\n",
        "print(tensor_f)\n",
        "print(tensor_t)\n",
        "print(torch.matmul(tensor_f,tensor_t))"
      ],
      "metadata": {
        "colab": {
          "base_uri": "https://localhost:8080/"
        },
        "id": "DvrpvdntB-sm",
        "outputId": "4b23e581-010d-41d3-fd52-3366a0fe7960"
      },
      "execution_count": 101,
      "outputs": [
        {
          "output_type": "stream",
          "name": "stdout",
          "text": [
            "torch.Size([1, 3])\n",
            "torch.Size([1, 3])\n",
            "tensor([[0.2530, 0.0944, 0.9952]])\n",
            "tensor([[0.0820],\n",
            "        [0.5453],\n",
            "        [0.8569]])\n",
            "tensor([[0.9250]])\n",
            "CPU times: user 6.58 ms, sys: 0 ns, total: 6.58 ms\n",
            "Wall time: 7.69 ms\n"
          ]
        }
      ]
    },
    {
      "cell_type": "code",
      "source": [
        "# Finding the min , max and mean and sum or product\n",
        "\n",
        "tensor_1 = torch.arange(0,100,10)\n",
        "tensor_2 = torch.arange(0,200,10)\n",
        "torch.min(tensor_1)\n",
        "torch.max(tensor_2)\n",
        "torch.mean(tensor_1.type(torch.float32))\n",
        "torch.mean(tensor_2.type(torch.float32))\n"
      ],
      "metadata": {
        "colab": {
          "base_uri": "https://localhost:8080/"
        },
        "id": "-Pxnt3VADXP8",
        "outputId": "ea6c3649-2d9a-4456-8aa2-64625d645caa"
      },
      "execution_count": 108,
      "outputs": [
        {
          "output_type": "execute_result",
          "data": {
            "text/plain": [
              "tensor(95.)"
            ]
          },
          "metadata": {},
          "execution_count": 108
        }
      ]
    },
    {
      "cell_type": "code",
      "source": [
        "# tensor aggregation\n",
        "# finding positional min and max\n",
        "\n",
        "tensor_1 = torch.arange(0,100,10)\n",
        "tensor_2 = torch.arange(0,200,10)\n",
        "tensor_1.argmin()\n",
        "tensor_2.argmin()\n",
        "tensor_1.argmax()\n",
        "tensor_2.argmax()"
      ],
      "metadata": {
        "colab": {
          "base_uri": "https://localhost:8080/"
        },
        "id": "7OKWpDzNGjQA",
        "outputId": "21bf2c06-9be4-4b24-9b60-97de221dff68"
      },
      "execution_count": 111,
      "outputs": [
        {
          "output_type": "execute_result",
          "data": {
            "text/plain": [
              "tensor(19)"
            ]
          },
          "metadata": {},
          "execution_count": 111
        }
      ]
    },
    {
      "cell_type": "code",
      "source": [
        "# Reshaping Squeezing Unsqueezing\n",
        "# reshape : a reshape an input tensor to a defined shape\n",
        "# view : same as reshape but shares same memory as original\n",
        "# stacking : concatenate to each other by side by side or top of each other\n",
        "# squeezing : remove all 1 dimensions from a tensor\n",
        "# Unsqueez : add one dimension to tensor\n",
        "# permute : return a view of input with dimensions permuted in a certain way\n",
        "x = torch.arange(0,10)\n",
        "x.shape\n",
        "x_reshaped = x.reshape(10,1)\n",
        "x,x_reshaped\n",
        "\n",
        "x_view = x.view(2,5)\n",
        "x_view\n",
        "\n",
        "x_stack = torch.stack([x,x,x,x],dim=1)\n",
        "x_stack"
      ],
      "metadata": {
        "colab": {
          "base_uri": "https://localhost:8080/"
        },
        "id": "4htC8dgCHI37",
        "outputId": "0756a124-742a-4371-db42-6e01b24f7389"
      },
      "execution_count": 126,
      "outputs": [
        {
          "output_type": "execute_result",
          "data": {
            "text/plain": [
              "tensor([[0, 0, 0, 0],\n",
              "        [1, 1, 1, 1],\n",
              "        [2, 2, 2, 2],\n",
              "        [3, 3, 3, 3],\n",
              "        [4, 4, 4, 4],\n",
              "        [5, 5, 5, 5],\n",
              "        [6, 6, 6, 6],\n",
              "        [7, 7, 7, 7],\n",
              "        [8, 8, 8, 8],\n",
              "        [9, 9, 9, 9]])"
            ]
          },
          "metadata": {},
          "execution_count": 126
        }
      ]
    },
    {
      "cell_type": "code",
      "source": [],
      "metadata": {
        "id": "fUqb1_nqKMbS"
      },
      "execution_count": null,
      "outputs": []
    }
  ]
}