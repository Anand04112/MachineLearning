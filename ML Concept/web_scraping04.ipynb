{
 "cells": [
  {
   "cell_type": "code",
   "execution_count": 28,
   "id": "7f4bcdfc",
   "metadata": {},
   "outputs": [],
   "source": [
    "import numpy as np\n",
    "import pandas as pd\n",
    "import requests\n",
    "import lxml\n",
    "import matplotlib.pyplot as plt\n",
    "from bs4 import BeautifulSoup"
   ]
  },
  {
   "cell_type": "code",
   "execution_count": 29,
   "id": "4d1c3ae1",
   "metadata": {},
   "outputs": [],
   "source": [
    "headers = {'User-Agent': 'Mozilla/5.0 (Windows NT 6.3; Win64; x64) AppleWebKit/537.36 (KHTML, like Gecko) chrome/80.0.3987.162 Safari/537.36'}\n",
    "page = requests.get('https://www.imdb.com/calendar/?ref_=rlm&region=IN&type=MOVIE',headers=headers).text"
   ]
  },
  {
   "cell_type": "code",
   "execution_count": 30,
   "id": "e6b1477d",
   "metadata": {},
   "outputs": [],
   "source": [
    "\n",
    "\n",
    "soup = BeautifulSoup(page,\"lxml\")"
   ]
  },
  {
   "cell_type": "code",
   "execution_count": 31,
   "id": "419a44ff",
   "metadata": {},
   "outputs": [
    {
     "name": "stdout",
     "output_type": "stream",
     "text": [
      "['Teenage Mutant Ninja Turtles: Mutant Mayhem (2023)', 'The Equalizer 3 (2023)', 'Fuck Them All! (2023)', 'Kushi (2023)', 'Goldfish (2022)', 'Territory (2023)', 'Mystery of the Tattoo (2023)', 'Rangoli (2023)', 'Paramporul (2023)', 'Saptha Sagaradaache Ello (2023)', 'Acting Ka Bhoot (2023)', 'Cheta Singh (2023)', 'Love-All (2023)', 'Naa Nee Prema Katha (2023)', 'Thudikkum Karangal (2023)', 'Lucky Man (2023)', 'Ek Betuke Aadmi Ki Afrah Raatein (2023)', 'Kick (2023)', 'Prema Deshapu Yuvarani (2023)', \"Happy Teachers' Day (2023)\", 'Jawan (2023)', 'Miss Shetty Mr Polishetty (2023)', 'The Nun II (2023)', 'Angaaragan (2023)', 'Red Sandal Wood (2023)', 'Thirayattam (2023)', 'A Haunting in Venice (2023)', 'Sri (2023)', 'Tatsama Tadbhava (2023)', 'Skanda- the Attacker (2023)', 'Mark Antony (2023)', 'Hu Ane Tu (2023)', 'Baanadariyalli (2023)', 'Aanmeega Azhaippu (2023)', 'Buhey Bariyan (2023)', 'Nadikalil Sundari Yamuna (2023)', 'Kasargold (2023)', \"Parimala D'Souza (2023)\", 'Kaadhal Conditons Apply (2023)', 'Pratha (2023)', 'Bhole Oye (2023)', 'Chandramukhi 2 (2023)', 'Vinveli Devathai (2023)', 'Chaaver (2023)', 'The Great Indian Family (2023)', 'Sukhee (2023)', 'Bhagwan Bharose (2023)', 'Luv You Shankar (2023)', 'Ashtadigbandhanam (2023)', 'Blackia 2 (2023)', 'Che (2023)', 'Demon (2023)', 'Rab di Mehhar (2023)', 'Udd Jaa Nanhe Dil (2023)', 'Salaar (2023)', 'The Vaccine War (2023)', 'Chittha (2023)', 'Gaddi Jaandi Ae Chalaangaan Maardi (2023)', 'Dear Jassi (2023)', 'Teen Adkun Sitaram (2023)', 'Rajakili (2023)', 'S.P.E.E.D. (2023)', 'U Shape Ki Gully (2023)', 'Mangalavaram (2023)', 'The Great Indian Rescue (2023)', 'Dono (2023)', 'Thank You for Coming (2023)', 'Yaatris (2023)', 'Tillu Square (2023)', 'Pher Mamlaa Gadbad Hai (2023)', 'The Dark Face (2023)', 'PAW Patrol: The Mighty Movie (2023)', 'White Punjab (2023)', 'Leo (2023)', 'Ghost (2023)', 'Bhagavanth Kesari (2023)', 'Raktabeej (2023)', 'Ganapath (2023)', 'Yaariyan 2 (2023)', 'Tiger Nageswara Rao (2023)', 'Dasham Avatar (2023)', 'Tejas (2023)', 'The Goat Life (2023)', 'Maujaan Hi Maujaan (2023)', 'Bagha Jatin (2023)', 'The Journey of Donkers (2023)', '12th Fail (2023)', 'Gandhi & Co. (2022)', 'Meera (2023)', 'Raghav (2023)', 'Zindagi Zindabaad (2023)', 'Genie (2023)', 'The Idiots (2023)', 'Tagaru Palya (2023)', 'Nanban Oruvan Vandha Piragu (2023)', 'Yathabhava (2023)', 'Tiger 3 (2023)', 'Ayalaan (2023)', 'Adikeshava (2023)', 'Jigarthanda DoubleX (2023)', 'Trolls Band Together (2023)', 'Spark - L.I.F.E (2023)', 'Robot Chicken (2023)', 'Emergency (2023)', 'Devil (2023)', 'Hurry Om Hurry (2023)', 'Drame Aale (2023)', 'Animal (2023)', 'Sam Bahadur (2023)', 'Fukrey 3 (2023)', 'Untitled Shahid Kapoor/Kriti Sanon Film (2023)', 'The Crypto (2023)', 'Operation Valentine (2023)', 'Denny Jigar (2023)', 'Yodha (2023)', 'Captain Miller (2023)', 'Merry Christmas (2023)', 'Kya Masti Kya Dhoom (2023)', 'Barroz (2023)', 'Hi Nanna (2023)', 'Yezhu Kadal Yezhu Malai (2023)', 'Dunki (2023)', 'Yuva (2023)', 'Saindhav (2023)', 'Harom Hara (2023)', 'Extra (2023)', 'India Fashion Factory (2023)', 'Kabuliwala (2023)', 'Translations (2023)', 'The Lost Ship (2024)', 'The Diplomat (2024)', 'Project K (2024)', 'Herseye Ragmen (2024)', 'Hanu Man (2024)', 'Eagle (2024)', 'Guntur Kaaram (2024)', 'Ustaad Bhagat Singh (2024)', 'Fighter (2024)', 'Pratinidhi 2 (2024)', 'Warning 2 (2024)', 'Untititled Ajay Devgn movie (2024)', 'Untitled Abhishek Kapoor/Ajay Devgn Project (2024)', 'Untitled Soorarai Pottru remake (2024)', 'LSD 2: Love, Sex Aur Dhokha 2 (2024)', 'Mere Mehboob Mere Sanam (2024)', 'Double Ismart (2024)', 'Dune: Part Two (2024)', 'Mr. & Mrs. Mahi (2024)', 'Pushpa the Rule (2023)', 'The Crew (2024)', 'Metro... In Dhino (2024)', 'Rabb Da Radio 3 (2024)', 'Nadada (2024)', 'Devara (2024)', 'Bastar (2024)', 'Bade Miyan Chote Miyan (2024)', 'Sheran Di Kaum Punjabi (2024)', 'Thalapathy 68 (2024)', 'VD18 (2024)', 'Chandu Champion (2024)']\n"
     ]
    }
   ],
   "source": [
    "movie_name =[]\n",
    "for i in range(160):\n",
    "    movie_name.append(soup.find_all('a',class_=\"ipc-metadata-list-summary-item__t\")[i].text.strip())\n",
    "print(movie_name)"
   ]
  },
  {
   "cell_type": "code",
   "execution_count": 32,
   "id": "e0ac53a5",
   "metadata": {},
   "outputs": [],
   "source": [
    "\n",
    "final_movie_name =[]\n",
    "expected_release_year =[]\n",
    "for i in range(160):\n",
    "    str = movie_name[i]\n",
    "    new_str = str[len(str)-7:]\n",
    "    expected_release_year.append(new_str)\n",
    "    str = str[:len(str)-7]\n",
    "    str.replace(new_str,'')\n",
    "    final_movie_name.append(str)"
   ]
  },
  {
   "cell_type": "code",
   "execution_count": 41,
   "id": "9bc70f24",
   "metadata": {},
   "outputs": [
    {
     "name": "stdout",
     "output_type": "stream",
     "text": [
      "160\n"
     ]
    }
   ],
   "source": [
    "final_release_year = []\n",
    "a = int(expected_release_year[0][2:len(expected_release_year[0])-1])\n",
    "for i in range(160):\n",
    "    final_release_year.append(int(expected_release_year[i][2:len(expected_release_year[i])-1]))\n",
    "print(len(final_release_year))"
   ]
  },
  {
   "cell_type": "code",
   "execution_count": 89,
   "id": "a04858b8",
   "metadata": {},
   "outputs": [
    {
     "name": "stdout",
     "output_type": "stream",
     "text": [
      "160\n"
     ]
    }
   ],
   "source": [
    "info_list =[]\n",
    "for i in range(147):\n",
    "    pr = ''.join(soup.find_all('ul',class_=\"ipc-inline-list ipc-inline-list--show-dividers ipc-inline-list--no-wrap ipc-inline-list--inline ipc-metadata-list-summary-item__tl base\")[i].text+\" \")\n",
    "    info_list.append(pr)\n",
    "for i in range(13):\n",
    "    info_list.append('null')\n",
    "print(len(info_list))"
   ]
  },
  {
   "cell_type": "code",
   "execution_count": 90,
   "id": "065ddf89",
   "metadata": {},
   "outputs": [
    {
     "data": {
      "text/plain": [
       "['ActionCrimeThriller']"
      ]
     },
     "execution_count": 90,
     "metadata": {},
     "output_type": "execute_result"
    }
   ],
   "source": [
    "pr = ''.join(soup.find_all('ul',class_=\"ipc-inline-list ipc-inline-list--show-dividers ipc-inline-list--no-wrap ipc-inline-list--inline ipc-metadata-list-summary-item__tl base\")[1].text)\n",
    "li =[]\n",
    "li.append(pr)\n",
    "li\n"
   ]
  },
  {
   "cell_type": "code",
   "execution_count": 91,
   "id": "ed3a8a11",
   "metadata": {},
   "outputs": [],
   "source": [
    "movie_artist =[]\n",
    "for i in range(160):\n",
    "    str =\"\"\n",
    "    movie_artist.append(''.join(soup.find_all('ul',class_=\"ipc-inline-list ipc-inline-list--show-dividers ipc-inline-list--no-wrap ipc-inline-list--inline ipc-metadata-list-summary-item__stl base\")[i].text+\" \"))\n",
    "    "
   ]
  },
  {
   "cell_type": "code",
   "execution_count": 92,
   "id": "4ecfeb52",
   "metadata": {},
   "outputs": [
    {
     "name": "stdout",
     "output_type": "stream",
     "text": [
      "160\n",
      "160\n"
     ]
    }
   ],
   "source": [
    "print(len(final_movie_name))\n",
    "print(len(final_release_year))"
   ]
  },
  {
   "cell_type": "code",
   "execution_count": 93,
   "id": "d90413b3",
   "metadata": {},
   "outputs": [],
   "source": [
    " data = {\n",
    "        'name':final_movie_name,\n",
    "        'Year':final_release_year,\n",
    "         'genre':info_list,\n",
    "        'artist':movie_artist\n",
    "        }\n",
    "final = pd.DataFrame(data)"
   ]
  },
  {
   "cell_type": "code",
   "execution_count": 94,
   "id": "e4f5c1d8",
   "metadata": {},
   "outputs": [
    {
     "data": {
      "text/html": [
       "<div>\n",
       "<style scoped>\n",
       "    .dataframe tbody tr th:only-of-type {\n",
       "        vertical-align: middle;\n",
       "    }\n",
       "\n",
       "    .dataframe tbody tr th {\n",
       "        vertical-align: top;\n",
       "    }\n",
       "\n",
       "    .dataframe thead th {\n",
       "        text-align: right;\n",
       "    }\n",
       "</style>\n",
       "<table border=\"1\" class=\"dataframe\">\n",
       "  <thead>\n",
       "    <tr style=\"text-align: right;\">\n",
       "      <th></th>\n",
       "      <th>name</th>\n",
       "      <th>Year</th>\n",
       "      <th>genre</th>\n",
       "      <th>artist</th>\n",
       "    </tr>\n",
       "  </thead>\n",
       "  <tbody>\n",
       "    <tr>\n",
       "      <th>0</th>\n",
       "      <td>Teenage Mutant Ninja Turtles: Mutant Mayhem</td>\n",
       "      <td>2023</td>\n",
       "      <td>AnimationActionAdventure</td>\n",
       "      <td>Micah AbbeyShamon Brown Jr.Nicolas CantuBrady ...</td>\n",
       "    </tr>\n",
       "    <tr>\n",
       "      <th>1</th>\n",
       "      <td>The Equalizer 3</td>\n",
       "      <td>2023</td>\n",
       "      <td>ActionCrimeThriller</td>\n",
       "      <td>Denzel WashingtonDakota FanningEugenio Mastran...</td>\n",
       "    </tr>\n",
       "    <tr>\n",
       "      <th>2</th>\n",
       "      <td>Fuck Them All!</td>\n",
       "      <td>2023</td>\n",
       "      <td>Biography</td>\n",
       "      <td>Old-NickJanet PriestSophie FournierJohn Waterh...</td>\n",
       "    </tr>\n",
       "    <tr>\n",
       "      <th>3</th>\n",
       "      <td>Kushi</td>\n",
       "      <td>2023</td>\n",
       "      <td>ComedyDramaRomance</td>\n",
       "      <td>Samantha Ruth PrabhuVijay DeverakondaLakshmiMu...</td>\n",
       "    </tr>\n",
       "    <tr>\n",
       "      <th>4</th>\n",
       "      <td>Goldfish</td>\n",
       "      <td>2022</td>\n",
       "      <td>Drama</td>\n",
       "      <td>Kalki KoechlinDeepti NavalGordon WarneckeRajit...</td>\n",
       "    </tr>\n",
       "  </tbody>\n",
       "</table>\n",
       "</div>"
      ],
      "text/plain": [
       "                                          name  Year  \\\n",
       "0  Teenage Mutant Ninja Turtles: Mutant Mayhem  2023   \n",
       "1                              The Equalizer 3  2023   \n",
       "2                               Fuck Them All!  2023   \n",
       "3                                        Kushi  2023   \n",
       "4                                     Goldfish  2022   \n",
       "\n",
       "                       genre  \\\n",
       "0  AnimationActionAdventure    \n",
       "1       ActionCrimeThriller    \n",
       "2                 Biography    \n",
       "3        ComedyDramaRomance    \n",
       "4                     Drama    \n",
       "\n",
       "                                              artist  \n",
       "0  Micah AbbeyShamon Brown Jr.Nicolas CantuBrady ...  \n",
       "1  Denzel WashingtonDakota FanningEugenio Mastran...  \n",
       "2  Old-NickJanet PriestSophie FournierJohn Waterh...  \n",
       "3  Samantha Ruth PrabhuVijay DeverakondaLakshmiMu...  \n",
       "4  Kalki KoechlinDeepti NavalGordon WarneckeRajit...  "
      ]
     },
     "execution_count": 94,
     "metadata": {},
     "output_type": "execute_result"
    }
   ],
   "source": [
    "final.head()"
   ]
  },
  {
   "cell_type": "code",
   "execution_count": 95,
   "id": "017a5a50",
   "metadata": {},
   "outputs": [
    {
     "name": "stdout",
     "output_type": "stream",
     "text": [
      "                                            name  Year                      genre                                                                     artist\n",
      "0    Teenage Mutant Ninja Turtles: Mutant Mayhem  2023  AnimationActionAdventure                         Micah AbbeyShamon Brown Jr.Nicolas CantuBrady Noon \n",
      "1                                The Equalizer 3  2023       ActionCrimeThriller             Denzel WashingtonDakota FanningEugenio MastrandreaDavid Denman \n",
      "2                                 Fuck Them All!  2023                 Biography                         Old-NickJanet PriestSophie FournierJohn Waterhouse \n",
      "3                                          Kushi  2023        ComedyDramaRomance                   Samantha Ruth PrabhuVijay DeverakondaLakshmiMurli Sharma \n",
      "4                                       Goldfish  2022                     Drama                      Kalki KoechlinDeepti NavalGordon WarneckeRajit Kapoor \n",
      "5                                      Territory  2023                  Thriller                 Sheshpal GanvirSandeep KulkarniKishor KadamYogesh Kulkarni \n",
      "6                          Mystery of the Tattoo  2023               DramaFamily                                Rohit RaajArjun RampalDaisy ShahManoj Joshi \n",
      "7                                        Rangoli  2023            ActionThriller           HamareshAadukalam MurugadossPrarthana SandeepSaishri Prabhakaran \n",
      "8                                     Paramporul  2023              DramaRomance             R. SarathkumarKashmira PardeshiAmitash PradhanBalaji Sakthivel \n",
      "9                       Saptha Sagaradaache Ello  2023               ComedyCrime                   Rakshit ShettyRukmini VasanthAchyuth KumarPavitra Lokesh \n",
      "10                               Acting Ka Bhoot  2023                  Thriller                         Aham SharmaRajni KatiyarSaanand VermaIshtiyak Khan \n",
      "11                                   Cheta Singh  2023                     Sport                Japji KhairaMintu KapaPrince Kanwaljit SinghIrwin Meet Kaur \n",
      "12                                      Love-All  2023        ActionDramaRomance                    Kay Kay MenonSwastika MukherjeeShriswaraAtul Srivastava \n",
      "13                           Naa Nee Prema Katha  2023                    Comedy                          Amuda SrinivasKarunya ChowdaryRamya SriAjay Ghosh \n",
      "14                            Thudikkum Karangal  2023                     Drama                              Suresh MenonMisha NarangManoj SakarapaniVemal \n",
      "15                                     Lucky Man  2023         ActionComedyDrama                             Yogi BabuRaichal RabeccaR.S. ShivajiAbdool Lee \n",
      "16              Ek Betuke Aadmi Ki Afrah Raatein  2023                   Romance                        Adil HussainMia MaelzerArchanna GuptaaRajveer Verma \n",
      "17                                          Kick  2023                  Thriller                         BrahmanandamSanthanamMotta RajendranRagini Dwivedi \n",
      "18                        Prema Deshapu Yuvarani  2023            ActionThriller                                 Priynka RewriRaghuYamin RaazViraat Karthik \n",
      "19                           Happy Teachers' Day  2023        ComedyDramaRomance              Nimrat KaurRadhika MadanPriyanshu ChatterjeeChinmay Mandlekar \n",
      "20                                         Jawan  2023     HorrorMysteryThriller                   Shah Rukh KhanNayantharaVijay SethupathiDeepika Padukone \n",
      "21                     Miss Shetty Mr Polishetty  2023            ActionThriller                        Keshav DeepakAbhinav GomatamJayasudhaKoushik Mahata \n",
      "22                                    The Nun II  2023              DramaRomance                       Bonnie AaronsTaissa FarmigaAnna PopplewellStorm Reid \n",
      "23                                    Angaaragan  2023          CrimeDramaHorror                      SreepathySathyarajNiya SankranthilAngadi Theru Mahesh \n",
      "24                               Red Sandal Wood  2023            BiographyDrama                        G. MarimuthuRamachandra RajuMimmoGanesh Venkatraman \n",
      "25                                   Thirayattam  2023             CrimeThriller                             Sreelakshmi AravindakshanJijo GopiNadam Murali \n",
      "26                          A Haunting in Venice  2023        ActionDramaRomance                           Kenneth BranaghMichelle YeohJamie DornanTina Fey \n",
      "27                                           Sri  2023         ActionDramaSci-Fi                                   Rajkummar RaoAlaya FJyotikaSharad Kelkar \n",
      "28                              Tatsama Tadbhava  2023                     Drama                 Meghana RajSruthi HariharanT.S. NagabharanaPrajwal Devaraj \n",
      "29                          Skanda- the Attacker  2023        ComedyDramaRomance                                         SreeleelaRam PothineniPrince Cecil \n",
      "30                                   Mark Antony  2023                  Thriller                                           VishalS.J. SuryahRitu VarmaSunil \n",
      "31                                     Hu Ane Tu  2023                    Comedy             Siddharth RanderiaSonali Lele DesaiPuja JoshiParikshit Tamalia \n",
      "32                                Baanadariyalli  2023       ActionDramaThriller                        Rukmini VasanthGaneshRangayana RaghuReeshma Nanaiah \n",
      "33                             Aanmeega Azhaippu  2023          ActionCrimeDrama                      R. Sathiyamoorthi JeyaguruSubikshaAdhesh BalaGopinath \n",
      "34                                 Buhey Bariyan  2023                     Drama                         Neeru BajwaSimone SinghGurpreet BhanguNirmal Rishi \n",
      "35                      Nadikalil Sundari Yamuna  2023                   Mystery               Aju VargheseDhyan SreenivasanNavas VallikkunnuNirmal Palazhi \n",
      "36                                     Kasargold  2023                     Drama                                VinayakanAsif AliSiddiqueP.P. Kunhikrishnan \n",
      "37                              Parimala D'Souza  2023         ComedyDramaHorror                       Krishnappa KgfKomala BanavaseVinod SheshadriGhamanya \n",
      "38                       Kaadhal Conditons Apply  2023             CrimeThriller                                Venkat PrabhuDivyadarshiniManobalaSana Khan \n",
      "39                                        Pratha  2023                     Drama                          Simaran KaurSheetal PatraSwaraj BarikBobby Mishra \n",
      "40                                     Bhole Oye  2023                     Drama                     Jagjeet SandhuDheeraj KumarGurnavdeep SinghJeet Bhangu \n",
      "41                                Chandramukhi 2  2023                 Animation                            Kangana RanautRaghava LawrenceSathyarajVadivelu \n",
      "42                              Vinveli Devathai  2023    ActionAdventureMystery                                     Shalini BalasundaramAuro Chakkravarthy \n",
      "43                                       Chaaver  2023                 Biography                       Kunchacko BobanArjun AshokanAntony VargheseSangeetha \n",
      "44                       The Great Indian Family  2023                   Romance                       Vicky KaushalManushi ChhillarKumud MishraManoj Pahwa \n",
      "45                                        Sukhee  2023                    Family               Shilpa Shetty KundraAmit SadhChaitannya ChoudhryKusha Kapila \n",
      "46                               Bhagwan Bharose  2023       ActionDramaThriller                       Satendra SoniSparsh SumanVinay PathakMasumeh Makhija \n",
      "47                               Luv You Shankar  2023                     Drama                Sanjay MishraAbhimanyu SinghTanishaa MukerjiShreyas Talpade \n",
      "48                             Ashtadigbandhanam  2023             DramaThriller                  Surya Bharath ChandraVishika KotaViswender ReddyVivareddy \n",
      "49                                     Blackia 2  2023               ComedyDrama                   Raj Singh JhinjarSukhwinder ChahalDev KharoudSamuel John \n",
      "50                                           Che  2023      DramaRomanceThriller      Pasala Uma MaheshwarB. R. Sabhavath NayakKartheek NuneLavanya Sameera \n",
      "51                                         Demon  2023               ComedyDrama                             SachinnAparnathiSuruthi PeriyasamyKumki Ashwin \n",
      "52                                 Rab di Mehhar  2023         ActionDramaFamily                     Ajay SarkariaKashish RaiDheeraj KumarSukhwinder Chahal \n",
      "53                             Udd Jaa Nanhe Dil  2023                 Biography                        Gaurav KambleSuniel ShettySurendra PalRajgopal Iyer \n",
      "54                                        Salaar  2023                     Drama                     PrabhasPrithviraj SukumaranShruti HaasanJagapathi Babu \n",
      "55                               The Vaccine War  2023            ActionThriller                            Anupam KherNana PatekarPallavi JoshiMohan Kapur \n",
      "56                                       Chittha  2023     BiographyDramaHistory                                                                  Siddharth \n",
      "57            Gaddi Jaandi Ae Chalaangaan Maardi  2023                    Comedy                         Jasmin BajwaAmmy VirkBinnu DhillonJaswinder Bhalla \n",
      "58                                    Dear Jassi  2023         ComedyDramaFamily                        Pavia SidhuYugam SoodGourav SharmaSukhwinder Chahal \n",
      "59                            Teen Adkun Sitaram  2023               ComedyDrama                Hrishikesh JoshiSankarshan KarhadePrajakta MaliAlok Rajwade \n",
      "60                                      Rajakili  2023                   Romance                     SamuthirakaniReshma PasupuletiIlavarasuAadukalam Naren \n",
      "61                                    S.P.E.E.D.  2023                    Action                               Old-NickAlex HallJanet PriestVincent X. Hall \n",
      "62                              U Shape Ki Gully  2023  AnimationActionAdventure                        Sushant SinghJaaved JaaferiVivaan ShahIshtiyak Khan \n",
      "63                                  Mangalavaram  2023                     Drama                 Divya PillaiNandita ShwethaAjay GhoshPriyadarshi Pulikonda \n",
      "64                       The Great Indian Rescue  2023          ActionCrimeDrama                   Akshay KumarParineeti ChopraRajesh SharmaHimanshu Jaykar \n",
      "65                                          Dono  2023            ActionThriller                                                 Rajveer DeolPaloma Dhillon \n",
      "66                          Thank You for Coming  2023               ActionDrama                         Anil KapoorBhumi PednekarShehnaaz GillShibani Bedi \n",
      "67                                       Yaatris  2023                  Thriller                         Raghubir YadavSeema PahwaAnuraag MalhanJamie Lever \n",
      "68                                  Tillu Square  2023         ActionDramaSci-Fi   Anupama ParameswaranSidhu JonnalagaddaSriram Reddy PolasaneRaj Tirandasu \n",
      "69                        Pher Mamlaa Gadbad Hai  2023        ComedyDramaMusical                            Jaswinder BhallaBaninder BunnyPrreit KamalNinja \n",
      "70                                 The Dark Face  2023      ActionBiographyCrime                                          Shibam SamantaSanjay Kumar Mishra \n",
      "71                  PAW Patrol: The Mighty Movie  2023                  Thriller                        Finn Lee-EppRon PardoMckenna GraceChristian Convery \n",
      "72                                  White Punjab  2023       ActionDramaThriller                     Samuel JohnKartar CheemaDakssh Ajit SinghRabbi Kandola \n",
      "73                                           Leo  2023            AdventureDrama                 Joseph VijayAnurag KashyapSanjay DuttGautham Vasudev Menon \n",
      "74                                         Ghost  2023                    Comedy                                Anupam KherShivarajkumarJayaramArchana Jois \n",
      "75                             Bhagavanth Kesari  2023          BiographyHistory                          Arjun RampalKajal AggarwalR. SarathkumarSreeleela \n",
      "76                                     Raktabeej  2023                  Thriller             Victor BanerjeeMimi ChakrabortyDebashish MondalAbir Chatterjee \n",
      "77                                      Ganapath  2023                     Drama                     Tiger ShroffHimanshu JaykarKriti SanonAmitabh Bachchan \n",
      "78                                    Yaariyan 2  2023                     Drama                   Divya Khosla KumarMeezaan JafriPearl V PuriYash Dasgupta \n",
      "79                           Tiger Nageswara Rao  2023                    Action                                     Anupam KherJohn AbrahamKarthiRavi Teja \n",
      "80                                 Dasham Avatar  2023      ActionBiographyDrama   Jisshu SenguptaPrasenjit ChatterjeeAnirban BhattacharyaSubhasree Ganguly \n",
      "81                                         Tejas  2023             ActionFantasy                          Kangana RanautVarun MitraAnshul ChauhanRohed Khan \n",
      "82                                 The Goat Life  2023                    Comedy                 Prithviraj SukumaranJimmy Jean-LouisAmala PaulShobha Mohan \n",
      "83                            Maujaan Hi Maujaan  2023                     Drama                         Gippy GrewalBinnu DhillonKaramjit AnmolTanu Grewal \n",
      "84                                   Bagha Jatin  2023                CrimeDrama                          Alexandra TaylorDevSudipta ChakrabortySamiul Alam \n",
      "85                        The Journey of Donkers  2023   ActionAdventureThriller                          Leena SharmaCol Ravi SharmaGulshan NainAnkit Hans \n",
      "86                                     12th Fail  2023     ActionAdventureSci-Fi                Perry ChhabraVikrant MasseySukumar TuduPriyanshu Chatterjee \n",
      "87                                  Gandhi & Co.  2022               ActionDrama                       Dhyani JaniDarshan JariwalaDruma MehtaKrishil Rajpal \n",
      "88                                         Meera  2023         ActionComedyDrama                            Heena VardeSanjay ParmarReeva RachhChetan Daiya \n",
      "89                                        Raghav  2023  AnimationAdventureComedy            Nishita GoswamiMridula BaruahJatin BoraBibhuti Bhushan Hazarika \n",
      "90                             Zindagi Zindabaad  2023     ActionAdventureComedy                                  NinjaMandy TakharSukhdeep SukhSardar Sohi \n",
      "91                                         Genie  2023              DramaHistory                    Wamiqa GabbiJayam RaviKrithi ShettyKalyani Priyadarshan \n",
      "92                                    The Idiots  2023     ActionHistoryThriller                                             Old-NickJames HoganAlex Altman \n",
      "93                                  Tagaru Palya  2023                     Drama               NagabhushanaSharath LohitashwaRangayana RaghuRavi Rangavalli \n",
      "94                   Nanban Oruvan Vandha Piragu  2023                     Drama                                 Venkat PrabhuKpy BalaBhavani SreRj Ananthi \n",
      "95                                    Yathabhava  2023          ActionCrimeDrama           Gopalkrishna DeshpandeH.G. DattatreyaGowtham SudhakarBalarajwadi \n",
      "96                                       Tiger 3  2023         BiographyDramaWar                           Katrina KaifSalman KhanEmraan HashmiMichelle Lee \n",
      "97                                       Ayalaan  2023          ComedyCrimeDrama                      SivakarthikeyanRakul Preet SinghKarunakaranBhanupriya \n",
      "98                                    Adikeshava  2023              DramaRomance                          Panja Vaisshnav TejSreeleelaAparna DasJoju George \n",
      "99                           Jigarthanda DoubleX  2023     ActionMysteryThriller                                 S.J. SuryahRaghava LawrenceNimisha Sajayan \n",
      "100                         Trolls Band Together  2023       ActionDramaThriller      Zooey DeschanelAnna KendrickJustin TimberlakeChristopher Mintz-Plasse \n",
      "101                              Spark - L.I.F.E  2023                     Drama                      Mehreen PirzadaSuhasiniVennela KishoreRukshar Dhillon \n",
      "102                                Robot Chicken  2023       ActionDramaThriller                          Wayne BradyGeorge HearnViviAnn YeeJohn G. Brennan \n",
      "103                                    Emergency  2023      ActionAdventureDrama                        Satish KaushikAnupam KherKangana RanautMilind Soman \n",
      "104                                        Devil  2023             DramaThriller       Mark BenningtonNandamuri Kalyan RamSamyuktha MenonEdward Sonnenblick \n",
      "105                               Hurry Om Hurry  2023                    Comedy                   Siddharth RanderiaRaunaq KamdarVyoma NandiMalhaar Rathod \n",
      "106                                   Drame Aale  2023    ActionAdventureFantasy                          Harish VermaSharan KaurSukhwinder ChahalRubi Anam \n",
      "107                                       Animal  2023        DramaFamilyRomance                            Ranbir KapoorTriptii DimriAnil KapoorBobby Deol \n",
      "108                                  Sam Bahadur  2023                   Romance           Vicky KaushalSanya MalhotraFatima Sana ShaikhMohd. Zeeshan Ayyub \n",
      "109                                     Fukrey 3  2023               ComedyDrama                          Ali FazalPankaj TripathiFarhan AkhtarRicha Chadha \n",
      "110      Untitled Shahid Kapoor/Kriti Sanon Film  2023             ActionRomance                           Kriti SanonShahid KapoorDharmendraDimple Kapadia \n",
      "111                                   The Crypto  2023          ActionCrimeDrama                   Joshua CarterBilly BribgesChristian HernandezTre Kilgore \n",
      "112                          Operation Valentine  2023               ActionDrama                                                  Varun TejManushi Chhillar \n",
      "113                                  Denny Jigar  2023                    Action                       Yash SoniTarjanee BhadlaJitendra ThakkarChetan Daiya \n",
      "114                                        Yodha  2023                    Comedy                       Disha PataniRaashi KhannaSidharth MalhotraMohd Talib \n",
      "115                               Captain Miller  2023              DramaRomance                      DhanushShivarajkumarMark BenningtonPriyanka Arulmohan \n",
      "116                              Merry Christmas  2023      ActionHistoryMystery                      Katrina KaifVijay SethupathiRadhika ApteSanjay Kapoor \n",
      "117                          Kya Masti Kya Dhoom  2023             DramaThriller                 Abhishek BajajMusskan SethiAnant VidhaatEshanya Maheshwari \n",
      "118                                       Barroz  2023        ActionDramaFantasy                    MohanlalKallirroi TziafetaGuru SomasundaramKomal Sharma \n",
      "119                                     Hi Nanna  2023                     Drama                                   Mrunal ThakurShruti HaasanNaniAngad Bedi \n",
      "120                      Yezhu Kadal Yezhu Malai  2023    ActionAdventureFantasy                                                     Nivin PaulyAnjaliSoori \n",
      "121                                        Dunki  2023            ActionThriller                        Shah Rukh KhanTaapsee PannuBoman IraniVicky Kaushal \n",
      "122                                         Yuva  2023         ActionDramaFamily                   Sapthami GowdaAchyuth KumarYuva RajkumarPrashanth Natana \n",
      "123                                     Saindhav  2023         ActionComedyDrama      Nawazuddin SiddiquiVenkatesh DaggubatiAndrea JeremiahShraddha Srinath \n",
      "124                                   Harom Hara  2023   ActionAdventureThriller                Rajsekhar AningiKeshav DeepakArjun GowdaSudheer Babu Posani \n",
      "125                                        Extra  2023       ActionDramaThriller                                                SreeleelaNithiinPriyanka KD \n",
      "126                        India Fashion Factory  2023               ActionDrama                                          Nikki TamboliNamashi Chakraborthy \n",
      "127                                   Kabuliwala  2023          ComedyCrimeDrama                                                         Mithun Chakraborty \n",
      "128                                 Translations  2023             ComedyRomance                     Cari BarleyTallulah EdwardsAlan EmrysKate Morgan-Jones \n",
      "129                                The Lost Ship  2024                    Action                        Lee ArenbergSandy JohnsonJohn FioreEinar Haraldsson \n",
      "130                                 The Diplomat  2024      ActionAdventureDrama                           Kumud MishraSharib HashmiAmitoj MannJohn Abraham \n",
      "131                                    Project K  2024                     Drama                     Dulquer SalmaanDeepika PadukonePrabhasAmitabh Bachchan \n",
      "132                               Herseye Ragmen  2024          ActionCrimeDrama                Robert MaaserAslihan MalboraErkan PetekkayaEkin Mert Daymaz \n",
      "133                                     Hanu Man  2024               ComedyDrama                      Teja SajjaAmritha AiyerVaralaxmi SarathkumarVinay Rai \n",
      "134                                        Eagle  2024              DramaRomance                            Ravi TejaMadhooKavya ThaparAnupama Parameswaran \n",
      "135                                Guntur Kaaram  2024              DramaRomance                                  Ramya KrishnanMahesh BabuSunilPrakash Raj \n",
      "136                          Ustaad Bhagat Singh  2024                     Drama                        Pankaj TripathiPooja HegdePawan KalyanAshutosh Rana \n",
      "137                                      Fighter  2024       ActionDramaThriller                      Hrithik RoshanDeepika PadukoneAnil KapoorAkarsh Alagh \n",
      "138                                 Pratinidhi 2  2024                CrimeDrama                                                                Nara Rohith \n",
      "139                                    Warning 2  2024      ActionComedyThriller           Gippy GrewalRaj Singh JhinjarRaghveer BoliPrince Kanwaljit Singh \n",
      "140                  Untititled Ajay Devgn movie  2024      ActionAdventureDrama                                Ajay DevgnDiana PentyMohit MalikAman Devgan \n",
      "141  Untitled Abhishek Kapoor/Ajay Devgn Project  2024              ActionSci-Fi                                Ajay DevgnDiana PentyDylan JonesAman Devgan \n",
      "142              Untitled Soorarai Pottru remake  2024               ActionDrama                        Akshay KumarParesh RawalRadhika MadanR. Sarathkumar \n",
      "143                LSD 2: Love, Sex Aur Dhokha 2  2024       BiographyDramaSport                                                           Nimrit Ahluwalia \n",
      "144                      Mere Mehboob Mere Sanam  2024                     Drama                 Vicky KaushalSanya MalhotraFatima Sana ShaikhTriptii Dimri \n",
      "145                                Double Ismart  2024                     Drama                                                   Sanjay DuttRam Pothineni \n",
      "146                               Dune: Part Two  2024                CrimeDrama                      Florence PughRebecca FergusonTimothée ChalametZendaya \n",
      "147                              Mr. & Mrs. Mahi  2024                       null                   Rajkummar RaoJanhvi KapoorAbhishek BanerjeeKumud Mishra \n",
      "148                              Pushpa the Rule  2023                       null                             Allu ArjunFahadh FaasilRashmika MandannaSunil \n",
      "149                                     The Crew  2024                       null                                Rajkummar RaoKareena KapoorKriti SanonTabu \n",
      "150                            Metro... In Dhino  2024                       null                          Ali FazalPankaj TripathiSara Ali KhanAnupam Kher \n",
      "151                              Rabb Da Radio 3  2024                       null                                                  Simi ChahalTarsem Jassar \n",
      "152                                       Nadada  2024                       null                      Shriya SaranJayasudhaJagapathi BabuShanvi Srivastava \n",
      "153                                       Devara  2024                       null                    N.T. Rama Rao Jr.Saif Ali KhanJanhvi KapoorPrakash Raj \n",
      "154                                       Bastar  2024                       null                              Akshay KumarJanhvi KapoorTiger ShroffAlaya F \n",
      "155                       Bade Miyan Chote Miyan  2024                       null                           Sanjay DuttGippy GrewalHarpreet KalerRavi Dehru \n",
      "156                       Sheran Di Kaum Punjabi  2024                       null                                                Joseph VijayPrabhu DevaJai \n",
      "157                                Thalapathy 68  2024                       null                      Anushka SharmaWamiqa GabbiVarun DhawanKeerthy Suresh \n",
      "158                                         VD18  2024                       null                      Katrina KaifKartik AaryanShraddha KapoorBhuvan Arora \n",
      "159                              Chandu Champion  2024                       null                    Gippy GrewalGurpreet GhuggiKaramjit AnmolRaghveer Boli \n"
     ]
    }
   ],
   "source": [
    "print(final.to_string())"
   ]
  },
  {
   "cell_type": "code",
   "execution_count": 96,
   "id": "2050d355",
   "metadata": {},
   "outputs": [],
   "source": [
    "final.to_csv('future_release_movie_list.csv')"
   ]
  },
  {
   "cell_type": "code",
   "execution_count": null,
   "id": "52cd4d14",
   "metadata": {},
   "outputs": [],
   "source": []
  }
 ],
 "metadata": {
  "kernelspec": {
   "display_name": "Python 3 (ipykernel)",
   "language": "python",
   "name": "python3"
  },
  "language_info": {
   "codemirror_mode": {
    "name": "ipython",
    "version": 3
   },
   "file_extension": ".py",
   "mimetype": "text/x-python",
   "name": "python",
   "nbconvert_exporter": "python",
   "pygments_lexer": "ipython3",
   "version": "3.11.4"
  }
 },
 "nbformat": 4,
 "nbformat_minor": 5
}
