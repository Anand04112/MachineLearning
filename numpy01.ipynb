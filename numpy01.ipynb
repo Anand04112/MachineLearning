{
  "nbformat": 4,
  "nbformat_minor": 0,
  "metadata": {
    "colab": {
      "provenance": [],
      "authorship_tag": "ABX9TyNEUv24+ZRxfP6Rgsq1NnFc",
      "include_colab_link": true
    },
    "kernelspec": {
      "name": "python3",
      "display_name": "Python 3"
    },
    "language_info": {
      "name": "python"
    }
  },
  "cells": [
    {
      "cell_type": "markdown",
      "metadata": {
        "id": "view-in-github",
        "colab_type": "text"
      },
      "source": [
        "<a href=\"https://colab.research.google.com/github/Coder1010ayush/MachineLearning/blob/main/numpy01.ipynb\" target=\"_parent\"><img src=\"https://colab.research.google.com/assets/colab-badge.svg\" alt=\"Open In Colab\"/></a>"
      ]
    },
    {
      "cell_type": "code",
      "execution_count": 2,
      "metadata": {
        "colab": {
          "base_uri": "https://localhost:8080/"
        },
        "id": "Ebp0zd8k4DFJ",
        "outputId": "e5cb5ef7-ff03-4912-ce66-062a967eb3e2"
      },
      "outputs": [
        {
          "output_type": "stream",
          "name": "stdout",
          "text": [
            "2.0.1+cu118\n",
            "1.23.5\n"
          ]
        }
      ],
      "source": [
        "import torch\n",
        "import numpy as np\n",
        "print(torch.__version__)\n",
        "print(np.__version__)"
      ]
    },
    {
      "cell_type": "code",
      "source": [
        "# Creating an array in numpy\n",
        "scalar = np.array(3) # scalar value\n",
        "vector = np.array([1,2,3,4,5]) # one dimensional array\n",
        "matrix = np.array([[1,2,3],\n",
        "                    [4,5,6],\n",
        "                   [7,8,9]])  # two dimensional array\n",
        "print(scalar)\n",
        "print(vector)\n",
        "print(matrix)\n",
        "# Dimension of the np array\n",
        "print(scalar.ndim)\n",
        "print(vector.ndim)\n",
        "print(matrix.ndim)"
      ],
      "metadata": {
        "colab": {
          "base_uri": "https://localhost:8080/"
        },
        "id": "gsdv_hEV4lN-",
        "outputId": "30adebf7-0dec-450f-d3d6-b842344d5df2"
      },
      "execution_count": 7,
      "outputs": [
        {
          "output_type": "stream",
          "name": "stdout",
          "text": [
            "3\n",
            "[1 2 3 4 5]\n",
            "[[1 2 3]\n",
            " [4 5 6]\n",
            " [7 8 9]]\n",
            "0\n",
            "1\n",
            "2\n"
          ]
        }
      ]
    },
    {
      "cell_type": "code",
      "source": [
        "tensor = np.array([\n",
        "    [\n",
        "        [1,2],\n",
        "        [3,4]\n",
        "    ],[\n",
        "        [6,7],\n",
        "        [8,9]\n",
        "    ]\n",
        "])\n",
        "print(tensor)\n",
        "print(tensor.ndim)  # dimension of the array\n",
        "print(tensor.shape) # it returns dimension of at each index\n",
        "print(tensor.size)  # returns number of all elements in the array"
      ],
      "metadata": {
        "colab": {
          "base_uri": "https://localhost:8080/"
        },
        "id": "rBUe5wqn-arz",
        "outputId": "63545bbe-4dd3-424c-a01e-884384dfd9a1"
      },
      "execution_count": 14,
      "outputs": [
        {
          "output_type": "stream",
          "name": "stdout",
          "text": [
            "[[[1 2]\n",
            "  [3 4]]\n",
            "\n",
            " [[6 7]\n",
            "  [8 9]]]\n",
            "3\n",
            "(2, 2, 2)\n",
            "8\n"
          ]
        }
      ]
    },
    {
      "cell_type": "markdown",
      "source": [
        "### Data Types in numpy\n",
        "There are many data types in the numpy such as :\n",
        "\n",
        "            01 integer - 'i'\n",
        "            02 string - 'S'\n",
        "            03 boolean - 'b'\n",
        "            04 float - 'f'\n",
        "            05 complex data type - 'c'\n",
        "            06 unsigned int - 'u'\n",
        "            07 Object - 'O'\n",
        "            08 timedelta - 'm'\n",
        "            09 datetime - 'M'\n",
        "            10 void - 'V'"
      ],
      "metadata": {
        "id": "9EPJx04fCZ0T"
      }
    },
    {
      "cell_type": "code",
      "source": [
        "arr = np.array([\"apple\",\"pineapple\",\"orange\"])\n",
        "arr_1 = np.array([1,2,3,4,5])\n",
        "arr_2 = np.array([True,False,True,True])\n",
        "arr_3 = np.array([1.2,3.5,6.8,9.0])\n",
        "print(arr.dtype)\n",
        "print(arr_1.dtype)\n",
        "print(arr_2.dtype)\n",
        "print(arr_3.dtype)"
      ],
      "metadata": {
        "colab": {
          "base_uri": "https://localhost:8080/"
        },
        "id": "a2fWE4TV_5Pm",
        "outputId": "4c1347d3-bbed-41d7-fa08-3dcbbe7775ea"
      },
      "execution_count": 17,
      "outputs": [
        {
          "output_type": "stream",
          "name": "stdout",
          "text": [
            "<U9\n",
            "int64\n",
            "bool\n",
            "float64\n"
          ]
        }
      ]
    },
    {
      "cell_type": "code",
      "source": [
        "# Converting one dtype to another\n",
        "arr = np.array([1,2,3,4,5])\n",
        "newarr = arr.astype('f') # astype is a method to convert one dtype to another dtype\n",
        "print(arr)\n",
        "print(newarr)\n",
        "\n",
        "bool_arr = np.array([True,False,False,True])\n",
        "str_arr = bool_arr.astype('S')\n",
        "print(bool_arr)\n",
        "print(str_arr)"
      ],
      "metadata": {
        "colab": {
          "base_uri": "https://localhost:8080/"
        },
        "id": "pgqd695TEhfM",
        "outputId": "efdeccd7-cbb5-4052-c612-bf611f8fddb3"
      },
      "execution_count": 19,
      "outputs": [
        {
          "output_type": "stream",
          "name": "stdout",
          "text": [
            "[1 2 3 4 5]\n",
            "[1. 2. 3. 4. 5.]\n",
            "[ True False False  True]\n",
            "[b'True' b'False' b'False' b'True']\n"
          ]
        }
      ]
    },
    {
      "cell_type": "code",
      "source": [
        "# Another way to change dtye of numpy arr\n",
        "arr = np.array([1,2,3,4,5])\n",
        "str_arr = np.array([2,3,4],dtype=\"S\")\n",
        "print(str_arr)\n",
        "print(arr)"
      ],
      "metadata": {
        "colab": {
          "base_uri": "https://localhost:8080/"
        },
        "id": "E_VhgKZ4Ifv1",
        "outputId": "cb366052-6d63-4e55-c24a-7515b27e7891"
      },
      "execution_count": 21,
      "outputs": [
        {
          "output_type": "stream",
          "name": "stdout",
          "text": [
            "[b'2' b'3' b'4']\n",
            "[1 2 3 4 5]\n"
          ]
        }
      ]
    },
    {
      "cell_type": "markdown",
      "source": [
        "**Copy and View in numpy**\n",
        "      Copy : it returns a new array which is similar as original array.  \n",
        "              View : it returns a view or instance of original array it shares same memory space"
      ],
      "metadata": {
        "id": "lHYuPE13JOJy"
      }
    },
    {
      "cell_type": "code",
      "source": [
        "tensor = np.array([1,2,3,4])\n",
        "arr = np.array([5,6,7,8])\n",
        "# Copy of the tensor\n",
        "copy_tensor = tensor.copy()\n",
        "# view of arr\n",
        "view_arr = arr.view()\n",
        "\n",
        "print(copy_tensor)\n",
        "print(view_arr)"
      ],
      "metadata": {
        "colab": {
          "base_uri": "https://localhost:8080/"
        },
        "id": "YW0pLU4IJERi",
        "outputId": "02d74faf-fb68-4ccd-95f8-2fdcb670c225"
      },
      "execution_count": 22,
      "outputs": [
        {
          "output_type": "stream",
          "name": "stdout",
          "text": [
            "[1 2 3 4]\n",
            "[5 6 7 8]\n"
          ]
        }
      ]
    },
    {
      "cell_type": "markdown",
      "source": [
        " base property return none in the case of copy and array in the case of view"
      ],
      "metadata": {
        "id": "Z5Eo4X8nLPpF"
      }
    },
    {
      "cell_type": "code",
      "source": [
        "# checking difference between copy and view\n",
        "tensor = np.array([1,2,3,4,5])\n",
        "copy = tensor.copy()\n",
        "view = tensor.view()\n",
        "print(copy.base)\n",
        "print(view.base)"
      ],
      "metadata": {
        "colab": {
          "base_uri": "https://localhost:8080/"
        },
        "id": "quQG1m9_K1_B",
        "outputId": "4543cf94-4a24-452a-c6e6-2459bcc6492d"
      },
      "execution_count": 23,
      "outputs": [
        {
          "output_type": "stream",
          "name": "stdout",
          "text": [
            "None\n",
            "[1 2 3 4 5]\n"
          ]
        }
      ]
    }
  ]
}